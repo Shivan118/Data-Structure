{
 "cells": [
  {
   "cell_type": "markdown",
   "metadata": {},
   "source": [
    "# Lists"
   ]
  },
  {
   "cell_type": "markdown",
   "metadata": {},
   "source": [
    "A list is a collection which is ordered and changeable."
   ]
  },
  {
   "cell_type": "markdown",
   "metadata": {},
   "source": [
    "# List Creation"
   ]
  },
  {
   "cell_type": "code",
   "execution_count": 1,
   "metadata": {},
   "outputs": [
    {
     "name": "stdout",
     "output_type": "stream",
     "text": [
      "[1, 'Hello', 3.4]\n"
     ]
    }
   ],
   "source": [
    "# empty list\n",
    "\n",
    "my_list1 = []\n",
    "\n",
    "# list of integers\n",
    "\n",
    "my_list1 = [1, 2, 3]\n",
    "\n",
    "# List of lists\n",
    "\n",
    "my_list3 = [[1,2], [4.5], [6,7]]\n",
    "\n",
    "# list with mixed datatypes\n",
    "\n",
    "my_list4 = [1, \"Hello\", 3.4]\n",
    "\n",
    "print(my_list4)"
   ]
  },
  {
   "cell_type": "markdown",
   "metadata": {},
   "source": [
    "# List Length"
   ]
  },
  {
   "cell_type": "code",
   "execution_count": 2,
   "metadata": {},
   "outputs": [
    {
     "name": "stdout",
     "output_type": "stream",
     "text": [
      "3\n"
     ]
    }
   ],
   "source": [
    "my_list = [1, \"Hello\", 3.4]\n",
    "\n",
    "# Find the length of list.\n",
    "\n",
    "print(len(my_list))"
   ]
  },
  {
   "cell_type": "markdown",
   "metadata": {},
   "source": [
    "# List Append"
   ]
  },
  {
   "cell_type": "code",
   "execution_count": 3,
   "metadata": {},
   "outputs": [
    {
     "name": "stdout",
     "output_type": "stream",
     "text": [
      "[1, 3, 5, 7, 9, 11, 13, 8]\n"
     ]
    }
   ],
   "source": [
    "list = [1, 3, 5, 7, 9, 11, 13]\n",
    "\n",
    "list.append(8) # Append will add the item at the end.\n",
    "\n",
    "print(list)"
   ]
  },
  {
   "cell_type": "markdown",
   "metadata": {},
   "source": [
    "# List Insert"
   ]
  },
  {
   "cell_type": "code",
   "execution_count": 4,
   "metadata": {},
   "outputs": [
    {
     "name": "stdout",
     "output_type": "stream",
     "text": [
      "[1, 3, 4, 5, 7, 9, 11, 13]\n"
     ]
    }
   ],
   "source": [
    "# syntax : list.insert(x, y)\n",
    "\n",
    "list = [1, 3, 5, 7, 9, 11, 13]\n",
    "\n",
    "list.insert(2, 4) # Will element y at location x.\n",
    "\n",
    "print(list)"
   ]
  },
  {
   "cell_type": "markdown",
   "metadata": {},
   "source": [
    "# List Remove"
   ]
  },
  {
   "cell_type": "code",
   "execution_count": 5,
   "metadata": {},
   "outputs": [
    {
     "name": "stdout",
     "output_type": "stream",
     "text": [
      "[1, 3, 7, 9, 11, 13]\n"
     ]
    }
   ],
   "source": [
    "# SYntax : List.remove(x)\n",
    "\n",
    "list = [1, 3, 5, 7, 9, 11, 13]\n",
    "\n",
    "list.remove(5)\n",
    "\n",
    "print(list)"
   ]
  },
  {
   "cell_type": "markdown",
   "metadata": {},
   "source": [
    "# List Append and Extend"
   ]
  },
  {
   "cell_type": "code",
   "execution_count": 6,
   "metadata": {},
   "outputs": [
    {
     "name": "stdout",
     "output_type": "stream",
     "text": [
      "['one', 'two', 'three', 'four', ['five', 'six']]\n"
     ]
    }
   ],
   "source": [
    "# Append\n",
    "list1 = [\"one\", \"two\", \"three\", \"four\"]\n",
    "\n",
    "list2 = [\"five\", \"six\"]\n",
    "\n",
    "list1.append(list2)\n",
    "\n",
    "print(list1)\n",
    "\n"
   ]
  },
  {
   "cell_type": "code",
   "execution_count": 7,
   "metadata": {},
   "outputs": [
    {
     "name": "stdout",
     "output_type": "stream",
     "text": [
      "['one', 'two', 'three', 'four', 'five', 'six']\n"
     ]
    }
   ],
   "source": [
    "# Extend\n",
    "list1 = [\"one\", \"two\", \"three\", \"four\"]\n",
    "\n",
    "list2 = [\"five\", \"six\"]\n",
    "\n",
    "\n",
    "list1.extend(list2)\n",
    "\n",
    "print(list1)"
   ]
  },
  {
   "cell_type": "markdown",
   "metadata": {},
   "source": [
    "# List Delete"
   ]
  },
  {
   "cell_type": "code",
   "execution_count": 8,
   "metadata": {},
   "outputs": [
    {
     "name": "stdout",
     "output_type": "stream",
     "text": [
      "['one', 'two', 'four']\n"
     ]
    }
   ],
   "source": [
    "# Using Del method.\n",
    "\n",
    "list1 = [\"one\", \"two\", \"three\", \"four\"]\n",
    "\n",
    "del list1[2]\n",
    "print(list1)"
   ]
  },
  {
   "cell_type": "code",
   "execution_count": 9,
   "metadata": {},
   "outputs": [
    {
     "name": "stdout",
     "output_type": "stream",
     "text": [
      "['one', 'two', 'three']\n"
     ]
    }
   ],
   "source": [
    "# Using pop method.\n",
    "\n",
    "list1 = [\"one\", \"two\", \"three\", \"four\"]\n",
    "\n",
    "list1.pop(3)\n",
    "print(list1)"
   ]
  },
  {
   "cell_type": "markdown",
   "metadata": {},
   "source": [
    "# List Releted kwyword in Pyton"
   ]
  },
  {
   "cell_type": "code",
   "execution_count": 10,
   "metadata": {},
   "outputs": [
    {
     "name": "stdout",
     "output_type": "stream",
     "text": [
      "AI\n",
      "ML\n"
     ]
    }
   ],
   "source": [
    "# Keyword 'in' used to test if an item is in a list.\n",
    "\n",
    "list1 = [\"one\", \"two\", \"three\", \"four\"]\n",
    "\n",
    "if \"one\" in list1:\n",
    "    print(\"AI\")\n",
    "    \n",
    "# Keyword 'not' can combined with 'in'\n",
    "    \n",
    "if \"Six\" not in list1:\n",
    "    print(\"ML\")"
   ]
  },
  {
   "cell_type": "code",
   "execution_count": 11,
   "metadata": {},
   "outputs": [
    {
     "name": "stdout",
     "output_type": "stream",
     "text": [
      "ML\n"
     ]
    }
   ],
   "source": [
    "list1 = [\"one\", \"two\", \"three\", \"four\"]\n",
    "\n",
    "if \"Six\" not in list1:\n",
    "    print(\"ML\")"
   ]
  },
  {
   "cell_type": "markdown",
   "metadata": {},
   "source": [
    "# List Reverse"
   ]
  },
  {
   "cell_type": "code",
   "execution_count": 12,
   "metadata": {},
   "outputs": [
    {
     "name": "stdout",
     "output_type": "stream",
     "text": [
      "['four', 'three', 'two', 'one']\n"
     ]
    }
   ],
   "source": [
    "# Reverse in reverse entire list.\n",
    "\n",
    "list1 = [\"one\", \"two\", \"three\", \"four\"]\n",
    "\n",
    "list1.reverse()\n",
    "\n",
    "print(list1)"
   ]
  },
  {
   "cell_type": "markdown",
   "metadata": {},
   "source": [
    "# List Storing"
   ]
  },
  {
   "cell_type": "markdown",
   "metadata": {},
   "source": [
    "The easiest way to sort a list is with the sorted(list) funtion.\n",
    "\n",
    "The take a list and return a new list with these elements in sorted order.\n",
    "\n",
    "The original list is not changed.\n",
    "\n",
    "The sorted() optional argument reverse= True, e.g. ssorted(list, reverse=True), makes it sort backwards."
   ]
  },
  {
   "cell_type": "code",
   "execution_count": 13,
   "metadata": {},
   "outputs": [
    {
     "name": "stdout",
     "output_type": "stream",
     "text": [
      "Sorted list : [1, 2, 3, 6, 8]\n",
      "Original list : [3, 1, 6, 2, 8]\n"
     ]
    }
   ],
   "source": [
    "# Create a list with numbers\n",
    "\n",
    "numbers = [3, 1, 6, 2, 8]\n",
    "\n",
    "sorted_lst = sorted(numbers)\n",
    "\n",
    "print(\"Sorted list :\", sorted_lst)\n",
    "\n",
    "#Original list remain unchanged\n",
    "\n",
    "print(\"Original list :\", numbers)"
   ]
  },
  {
   "cell_type": "code",
   "execution_count": 14,
   "metadata": {},
   "outputs": [
    {
     "name": "stdout",
     "output_type": "stream",
     "text": [
      "Reverse sorted list : [8, 6, 3, 2, 1]\n",
      "Original list : [3, 1, 6, 2, 8]\n"
     ]
    }
   ],
   "source": [
    "# Reverse sorted order\n",
    "print(\"Reverse sorted list :\", sorted(numbers, reverse = True))\n",
    "\n",
    "#Original list remain unchanged\n",
    "print(\"Original list :\", numbers)"
   ]
  },
  {
   "cell_type": "code",
   "execution_count": 15,
   "metadata": {},
   "outputs": [
    {
     "name": "stdout",
     "output_type": "stream",
     "text": [
      "Sorted list : [2.0, 3, 4.2, 5]\n"
     ]
    }
   ],
   "source": [
    "# Create a list with numbers\n",
    "\n",
    "lst = [3, 2.0, 5, 4.2]\n",
    "\n",
    "lst.sort()\n",
    "\n",
    "print(\"Sorted list :\", lst)"
   ]
  },
  {
   "cell_type": "markdown",
   "metadata": {},
   "source": [
    "# List having Multiple References"
   ]
  },
  {
   "cell_type": "code",
   "execution_count": 16,
   "metadata": {},
   "outputs": [
    {
     "name": "stdout",
     "output_type": "stream",
     "text": [
      "Original list : [1, 2, 3, 4, 5, 6]\n"
     ]
    }
   ],
   "source": [
    "lst = [1, 2, 3, 4, 5]\n",
    "abc = lst\n",
    "\n",
    "abc.append(6)\n",
    "\n",
    "# Print original list\n",
    "\n",
    "print(\"Original list :\", lst)"
   ]
  },
  {
   "cell_type": "markdown",
   "metadata": {},
   "source": [
    "# String Split to create a list"
   ]
  },
  {
   "cell_type": "code",
   "execution_count": 17,
   "metadata": {},
   "outputs": [
    {
     "name": "stdout",
     "output_type": "stream",
     "text": [
      "['one', ' two', ' three', ' four', ' five']\n"
     ]
    }
   ],
   "source": [
    "# Let's take a string\n",
    "\n",
    "a = \"one, two, three, four, five\"\n",
    "\n",
    "lst = a.split(',')\n",
    "\n",
    "print(lst)"
   ]
  },
  {
   "cell_type": "code",
   "execution_count": 18,
   "metadata": {},
   "outputs": [
    {
     "name": "stdout",
     "output_type": "stream",
     "text": [
      "['This', 'is', 'a', 'Jupyter', 'notebook']\n"
     ]
    }
   ],
   "source": [
    "s = \"This is a Jupyter notebook\"\n",
    "\n",
    "split_lst = s.split()  # default split is white-character: space or tab\n",
    "\n",
    "print(split_lst)"
   ]
  },
  {
   "cell_type": "markdown",
   "metadata": {},
   "source": [
    "# List Indexing"
   ]
  },
  {
   "cell_type": "markdown",
   "metadata": {},
   "source": [
    "Each item in the list has an assigned index value starting from 0.\n",
    "\n",
    "Accesing elements in a list is called indexing."
   ]
  },
  {
   "cell_type": "code",
   "execution_count": 19,
   "metadata": {},
   "outputs": [
    {
     "name": "stdout",
     "output_type": "stream",
     "text": [
      "3\n",
      "5\n"
     ]
    }
   ],
   "source": [
    "lst = [1, 2, 3, 4, 5]\n",
    "\n",
    "print(lst[2])   # print third element\n",
    "\n",
    "# Print last element using negative index\n",
    "\n",
    "print(lst[-1])"
   ]
  },
  {
   "cell_type": "markdown",
   "metadata": {},
   "source": [
    "# List Slicing"
   ]
  },
  {
   "cell_type": "markdown",
   "metadata": {},
   "source": [
    "Accessing parts of segments is called slicing. "
   ]
  },
  {
   "cell_type": "markdown",
   "metadata": {},
   "source": [
    "The key point to remember is that the :end value represents the first value that is not in the selected slice."
   ]
  },
  {
   "cell_type": "code",
   "execution_count": 29,
   "metadata": {},
   "outputs": [
    {
     "name": "stdout",
     "output_type": "stream",
     "text": [
      "[10, 20, 30, 40, 50, 60, 70]\n",
      "[10, 20, 30, 40]\n"
     ]
    }
   ],
   "source": [
    "numbers = [10, 20, 30, 40, 50, 60, 70]\n",
    "\n",
    "# print all numbers\n",
    "\n",
    "print(numbers[:])\n",
    "\n",
    "# Print from index 0 to index 3.\n",
    "\n",
    "print(numbers[:4])"
   ]
  },
  {
   "cell_type": "code",
   "execution_count": 31,
   "metadata": {},
   "outputs": [
    {
     "name": "stdout",
     "output_type": "stream",
     "text": [
      "[10, 20, 30, 40, 50, 60, 70]\n",
      "[10, 30, 50, 70]\n",
      "[30, 50, 70]\n"
     ]
    }
   ],
   "source": [
    "print(numbers)\n",
    "\n",
    "#Print alternate elements in a list\n",
    "\n",
    "print(numbers[::2])  # [start:end:stepsize]\n",
    "\n",
    "# Printelements start form 0 through rest of the list\n",
    "\n",
    "print(numbers[2::2])"
   ]
  },
  {
   "cell_type": "markdown",
   "metadata": {},
   "source": [
    "# List extend using \"+\""
   ]
  },
  {
   "cell_type": "code",
   "execution_count": 32,
   "metadata": {},
   "outputs": [
    {
     "name": "stdout",
     "output_type": "stream",
     "text": [
      "[1, 2, 3, 4, 5, 'verma', 'naveen', 'murali']\n"
     ]
    }
   ],
   "source": [
    "lst1 = [1, 2, 3, 4, 5]\n",
    "lst2 = ['verma', 'naveen', 'murali']\n",
    "new_list = lst1 + lst2\n",
    "\n",
    "print(new_list)"
   ]
  },
  {
   "cell_type": "markdown",
   "metadata": {},
   "source": [
    "# List Count"
   ]
  },
  {
   "cell_type": "code",
   "execution_count": 34,
   "metadata": {},
   "outputs": [
    {
     "name": "stdout",
     "output_type": "stream",
     "text": [
      "2\n",
      "4\n"
     ]
    }
   ],
   "source": [
    "numbers = [1, 3, 2, 4, 1, 3, 2, 5, 3, 4, 3, 5]\n",
    "\n",
    "# Frequency of 2 in a list\n",
    "\n",
    "print(numbers.count(2))\n",
    "\n",
    "# Frequency of 3 in a list\n",
    "\n",
    "print(numbers.count(3))"
   ]
  },
  {
   "cell_type": "markdown",
   "metadata": {},
   "source": [
    "# List Looping"
   ]
  },
  {
   "cell_type": "code",
   "execution_count": 35,
   "metadata": {},
   "outputs": [
    {
     "name": "stdout",
     "output_type": "stream",
     "text": [
      "one\n",
      "two\n",
      "three\n",
      "four\n",
      "five\n"
     ]
    }
   ],
   "source": [
    "# loop through a list\n",
    "\n",
    "lst = ['one', 'two', 'three', 'four', 'five']\n",
    "\n",
    "for ele in lst:\n",
    "    print(ele)"
   ]
  },
  {
   "cell_type": "markdown",
   "metadata": {},
   "source": [
    "# List Comprehensions"
   ]
  },
  {
   "cell_type": "markdown",
   "metadata": {},
   "source": [
    "List comprehensions provide a concise way to create list."
   ]
  },
  {
   "cell_type": "markdown",
   "metadata": {},
   "source": [
    "\n",
    "comma application are to make new lists where each element is the result of some operations applied to each member of anathor sequence or iterable, or to create a subsquence of those elements that satisfy a certain condition."
   ]
  },
  {
   "cell_type": "code",
   "execution_count": 37,
   "metadata": {},
   "outputs": [
    {
     "name": "stdout",
     "output_type": "stream",
     "text": [
      "[0, 1, 4, 9, 16, 25, 36, 49, 64, 81]\n"
     ]
    }
   ],
   "source": [
    "# without list comprehensions\n",
    "\n",
    "squares = []\n",
    "for i in range(10):\n",
    "    squares.append(i**2)  # list append\n",
    "print(squares)"
   ]
  },
  {
   "cell_type": "markdown",
   "metadata": {},
   "source": [
    "# Syntax"
   ]
  },
  {
   "cell_type": "markdown",
   "metadata": {},
   "source": [
    "another_list = [new_function(i) for i in range(k)]"
   ]
  },
  {
   "cell_type": "code",
   "execution_count": 38,
   "metadata": {},
   "outputs": [
    {
     "name": "stdout",
     "output_type": "stream",
     "text": [
      "[0, 1, 4, 9, 16, 25, 36, 49, 64, 81]\n"
     ]
    }
   ],
   "source": [
    "# Using list comprehensions\n",
    "squares = [i**2 for i in range(10)]\n",
    "print(squares)"
   ]
  },
  {
   "cell_type": "code",
   "execution_count": 40,
   "metadata": {},
   "outputs": [
    {
     "name": "stdout",
     "output_type": "stream",
     "text": [
      "[-20, -40, 20, 40, 100]\n",
      "[20, 40, 100]\n",
      "[(0, 0), (1, 1), (2, 4), (3, 9), (4, 16), (5, 25), (6, 36), (7, 49), (8, 64), (9, 81)]\n"
     ]
    }
   ],
   "source": [
    "# Example \n",
    "\n",
    "lst = [-10, -20, 10, 20, 50]\n",
    "\n",
    "# create a new list with values doubled\n",
    "\n",
    "new_lst = [i*2 for i in lst]\n",
    "print(new_lst)\n",
    "\n",
    "# filter the list to exclude negative numbers\n",
    "new_lst = [i*2 for i in lst if i>= 0]\n",
    "print(new_lst)\n",
    "\n",
    "# create a list of tuple like (number, square_of_number)\n",
    "\n",
    "new_lst = [(i, i**2) for i in range(10)]\n",
    "print(new_lst)"
   ]
  },
  {
   "cell_type": "markdown",
   "metadata": {},
   "source": [
    "# Nested List comprehensions"
   ]
  },
  {
   "cell_type": "code",
   "execution_count": 43,
   "metadata": {},
   "outputs": [
    {
     "name": "stdout",
     "output_type": "stream",
     "text": [
      "[[1, 2, 3], [2, 3, 4], [3, 4, 5], [4, 5, 6]]\n"
     ]
    }
   ],
   "source": [
    "# Let's suppose we have a matrix\n",
    "\n",
    "matrix = [\n",
    "    [1, 2, 3, 4],\n",
    "    [2, 3, 4, 5],\n",
    "    [3, 4, 5, 6]]\n",
    "\n",
    "# transpose of a matrix without list comprehensions\n",
    "transposed = []\n",
    "\n",
    "for i in range(4):\n",
    "\n",
    "    lst = []\n",
    "    for row in matrix:\n",
    "\n",
    "        lst.append(row[i])\n",
    "\n",
    "    transposed.append(lst)\n",
    "\n",
    "print(transposed)"
   ]
  },
  {
   "cell_type": "code",
   "execution_count": 44,
   "metadata": {},
   "outputs": [
    {
     "name": "stdout",
     "output_type": "stream",
     "text": [
      "we are going to take the  0 th element of each row\n",
      "the row we are considering : [1, 2, 3, 4] and we are going to add 1 to a temporary list\n",
      "the row we are considering : [2, 3, 4, 5] and we are going to add 2 to a temporary list\n",
      "the row we are considering : [3, 4, 5, 6] and we are going to add 3 to a temporary list\n",
      "the  0 th column elements =  0 th elements in every row are = [1, 2, 3]\n",
      "==================================================\n",
      "we are going to take the  1 th element of each row\n",
      "the row we are considering : [1, 2, 3, 4] and we are going to add 2 to a temporary list\n",
      "the row we are considering : [2, 3, 4, 5] and we are going to add 3 to a temporary list\n",
      "the row we are considering : [3, 4, 5, 6] and we are going to add 4 to a temporary list\n",
      "the  1 th column elements =  1 th elements in every row are = [2, 3, 4]\n",
      "==================================================\n",
      "we are going to take the  2 th element of each row\n",
      "the row we are considering : [1, 2, 3, 4] and we are going to add 3 to a temporary list\n",
      "the row we are considering : [2, 3, 4, 5] and we are going to add 4 to a temporary list\n",
      "the row we are considering : [3, 4, 5, 6] and we are going to add 5 to a temporary list\n",
      "the  2 th column elements =  2 th elements in every row are = [3, 4, 5]\n",
      "==================================================\n",
      "we are going to take the  3 th element of each row\n",
      "the row we are considering : [1, 2, 3, 4] and we are going to add 4 to a temporary list\n",
      "the row we are considering : [2, 3, 4, 5] and we are going to add 5 to a temporary list\n",
      "the row we are considering : [3, 4, 5, 6] and we are going to add 6 to a temporary list\n",
      "the  3 th column elements =  3 th elements in every row are = [4, 5, 6]\n",
      "==================================================\n",
      "[[1, 2, 3], [2, 3, 4], [3, 4, 5], [4, 5, 6]]\n"
     ]
    }
   ],
   "source": [
    "# Let's suppose we have a matrix\n",
    "\n",
    "matrix = [\n",
    "    [1, 2, 3, 4],\n",
    "    [2, 3, 4, 5],\n",
    "    [3, 4, 5, 6]]\n",
    "\n",
    "# transpose of a matrix without list comprehensions\n",
    "transposed = []\n",
    "\n",
    "for i in range(4):\n",
    "    print(\"we are going to take the \",i,\"th element of each row\")\n",
    "    lst = []\n",
    "    for row in matrix:\n",
    "        print(\"the row we are considering :\", row, \"and we are going to add\", row[i],\"to a temporary list\")\n",
    "        lst.append(row[i])\n",
    "\n",
    "    print(\"the \",i,\"th column elements = \", i ,\"th elements in every row are =\", lst)\n",
    "\n",
    "    transposed.append(lst)\n",
    "\n",
    "    print(\"=\"*50)\n",
    "\n",
    "print(transposed)"
   ]
  },
  {
   "cell_type": "code",
   "execution_count": 45,
   "metadata": {},
   "outputs": [
    {
     "name": "stdout",
     "output_type": "stream",
     "text": [
      "[[1, 2, 3], [2, 3, 4], [3, 4, 5], [4, 5, 6]]\n"
     ]
    }
   ],
   "source": [
    "# with list comprehensions\n",
    "\n",
    "transposed = [[row[i] for row in matrix] for i in range(4)]\n",
    "print(transposed)"
   ]
  },
  {
   "cell_type": "code",
   "execution_count": null,
   "metadata": {},
   "outputs": [],
   "source": []
  }
 ],
 "metadata": {
  "kernelspec": {
   "display_name": "Python 3",
   "language": "python",
   "name": "python3"
  },
  "language_info": {
   "codemirror_mode": {
    "name": "ipython",
    "version": 3
   },
   "file_extension": ".py",
   "mimetype": "text/x-python",
   "name": "python",
   "nbconvert_exporter": "python",
   "pygments_lexer": "ipython3",
   "version": "3.7.4"
  }
 },
 "nbformat": 4,
 "nbformat_minor": 2
}
